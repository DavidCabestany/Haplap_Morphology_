{
 "cells": [
  {
   "cell_type": "code",
   "execution_count": 21,
   "id": "61998e51-1b20-4315-a3f1-71828a5c10f9",
   "metadata": {},
   "outputs": [
    {
     "name": "stdout",
     "output_type": "stream",
     "text": [
      "shop[SG] shop\n",
      "shop[PL] shops\n",
      "watch[SG] watch\n",
      "watch[PL] watches\n",
      "fox[SG] fox\n",
      "fox[PL] foxes\n",
      "bus[SG] bus\n",
      "bus[PL] buses\n",
      "buzz[SG] buzz\n",
      "buzz[PL] buzzes\n",
      "fish[SG] fish\n",
      "fish[PL] fishes\n",
      "giraffe[SG] giraffe\n",
      "giraffe[PL] giraffes\n",
      "cat[SG] cat\n",
      "cat[PL] cats\n",
      "box[SG] box\n",
      "box[PL] boxes\n",
      "life[SG] life\n",
      "life[PL] lives\n"
     ]
    }
   ],
   "source": [
    "stems = ['shop', 'watch', 'fox', 'bus', 'buzz', 'fish', 'giraffe', 'cat', 'box', 'life', ]\n",
    "\n",
    "suffixes = ['[SG]', '[PL]']\n",
    "\n",
    "for stem in stems:\n",
    "    for suffix in suffixes:\n",
    "        inflected = stem + suffix\n",
    "        inflected = inflected.replace('[SG]', '')\n",
    "        inflected = inflected.replace('[PL]', '+s')\n",
    "        inflected = inflected.replace('x+s', 'xes')\n",
    "        inflected = inflected.replace('sh+s', 'shes')\n",
    "        inflected = inflected.replace('ch+s', 'ches')\n",
    "        inflected = inflected.replace('z+s', 'zes')\n",
    "        inflected = inflected.replace('s+s', 'ses')\n",
    "        inflected = inflected.replace('ife+s', 'ives')\n",
    "        inflected = inflected.replace('+s', 's')\n",
    "\n",
    "        print(stem + suffix, inflected)"
   ]
  },
  {
   "cell_type": "code",
   "execution_count": 28,
   "id": "c9d55b0a-1618-4b2d-9ed5-462973c1b92a",
   "metadata": {},
   "outputs": [
    {
     "name": "stdout",
     "output_type": "stream",
     "text": [
      "giraffe[PL]\n",
      "buzz[PL]\n",
      "cat[PL]\n",
      "[PL]hop[PL]\n",
      "whatch[PL]\n",
      "fox[PL]\n",
      "bus[PL]\n",
      "fish[PL]\n",
      "cat[PL]\n",
      "box[PL]\n"
     ]
    }
   ],
   "source": [
    "def analize(plural):\n",
    "    '''My solution'''\n",
    "    #if plural.endswith('es') and plural != 'giraffes':\n",
    "    #    return plural.replace('es','[PL]')\n",
    "    #if plural[-1:-2] != 'es' or plural == 'giraffes':\n",
    "    #    return plural.replace('s','[PL]')\n",
    "    \n",
    "    '''Teacher solution, with my code'''\n",
    "    \n",
    "    stems = ['shop', 'watch', 'fox', 'bus', 'buzz', 'fish', 'giraffe', 'cat', 'box', 'life', ]\n",
    "    suffixes = ['[SG]', '[PL]']\n",
    "    match = False\n",
    "    \n",
    "    \n",
    "    for stem in stems:\n",
    "    for suffix in suffixes:\n",
    "        inflected = stem + suffix\n",
    "        inflected = inflected.replace('[SG]', '')\n",
    "        inflected = inflected.replace('[PL]', '+s')\n",
    "        inflected = inflected.replace('x+s', 'xes')\n",
    "        inflected = inflected.replace('sh+s', 'shes')\n",
    "        inflected = inflected.replace('ch+s', 'ches')\n",
    "        inflected = inflected.replace('z+s', 'zes')\n",
    "        inflected = inflected.replace('s+s', 'ses')\n",
    "        inflected = inflected.replace('ife+s', 'ives')\n",
    "        inflected = inflected.replace('+s', 's')\n",
    "        if plural == inflected:\n",
    "            print(inflected)\n",
    "            match == True\n",
    "    if match == False:\n",
    "        print('???')\n",
    "        \n",
    "\n",
    "print(analize('giraffes'))\n",
    "print(analize('buzzes'))\n",
    "print(analize('cats'))\n",
    "print(analize('shops'))\n",
    "print(analize('whatches'))\n",
    "print(analize('foxes'))\n",
    "print(analize('buses'))\n",
    "print(analize('fishes'))\n",
    "print(analize('cats'))\n",
    "print(analize('boxes'))"
   ]
  },
  {
   "cell_type": "code",
   "execution_count": null,
   "id": "bf89f84f-9460-40af-827e-78b75113f431",
   "metadata": {},
   "outputs": [],
   "source": []
  }
 ],
 "metadata": {
  "kernelspec": {
   "display_name": "Python 3",
   "language": "python",
   "name": "python3"
  },
  "language_info": {
   "codemirror_mode": {
    "name": "ipython",
    "version": 3
   },
   "file_extension": ".py",
   "mimetype": "text/x-python",
   "name": "python",
   "nbconvert_exporter": "python",
   "pygments_lexer": "ipython3",
   "version": "3.8.8"
  }
 },
 "nbformat": 4,
 "nbformat_minor": 5
}
